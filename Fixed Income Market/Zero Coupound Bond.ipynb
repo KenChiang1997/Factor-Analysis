{
 "cells": [
  {
   "cell_type": "code",
   "execution_count": 1,
   "source": [
    "import math\n",
    "import numpy as np \n",
    "import pandas as pd \n",
    "import datetime as dt \n",
    "\n",
    "import matplotlib.pyplot as plt \n",
    "from pandas_datareader import data as pdr \n"
   ],
   "outputs": [],
   "metadata": {}
  },
  {
   "cell_type": "code",
   "execution_count": 2,
   "source": [
    "class ZeroCoupounBund():\n",
    "    \"\"\"\n",
    "\n",
    "    bond issuers --> : big insistitution who need money (governments , big tech, bank )\n",
    "\n",
    "    #zeros coupond bond\n",
    "    t0   : -50 (notional)\n",
    "    t10  : 100  , with no interest rate\n",
    "\n",
    "    #fixed coupond bond\n",
    "    t0   : -100 \n",
    "    t10  : 105  , with 5% coupond rate , current yield = 5/100 * 100 = ( 5% ) \n",
    "    \n",
    "\n",
    "    \"\"\"\n",
    "    def __init__(self,maturity) :\n",
    "        self.maturity = maturity\n",
    "    \n",
    "    def YTM(self,price,FV):\n",
    "        return math.pow(FV/price,1/self.maturity) -1 \n",
    "    \n",
    "    def Price(self,FV,ytm):\n",
    "        return FV / ( math.pow(1+ytm,self.maturity) )"
   ],
   "outputs": [],
   "metadata": {}
  },
  {
   "cell_type": "code",
   "execution_count": 3,
   "source": [
    "short_term_bond = ZeroCoupounBund(maturity=2)\n",
    "long_term_bond = ZeroCoupounBund(maturity=10)\n",
    "\n",
    "# calculate zero coupond bond ytm \n",
    "short_ytm = short_term_bond.YTM(price=90,FV=100)\n",
    "long_ytm = long_term_bond.YTM(price=90,FV=100)\n",
    "\n",
    "# calculate bond current prcie by FV and YTM \n",
    "short_term_bond.Price(ytm=short_ytm,FV=100)\n",
    "long_term_bond.Price(FV=100,ytm=long_ytm)"
   ],
   "outputs": [
    {
     "output_type": "execute_result",
     "data": {
      "text/plain": [
       "89.99999999999996"
      ]
     },
     "metadata": {},
     "execution_count": 3
    }
   ],
   "metadata": {}
  }
 ],
 "metadata": {
  "orig_nbformat": 4,
  "language_info": {
   "name": "python",
   "version": "3.8.8",
   "mimetype": "text/x-python",
   "codemirror_mode": {
    "name": "ipython",
    "version": 3
   },
   "pygments_lexer": "ipython3",
   "nbconvert_exporter": "python",
   "file_extension": ".py"
  },
  "kernelspec": {
   "name": "python3",
   "display_name": "Python 3.8.8 64-bit ('base': conda)"
  },
  "interpreter": {
   "hash": "0c3ff69894f38890f37ddb799565ef406432d6c9388a9cb4edde8226ada2cc12"
  }
 },
 "nbformat": 4,
 "nbformat_minor": 2
}